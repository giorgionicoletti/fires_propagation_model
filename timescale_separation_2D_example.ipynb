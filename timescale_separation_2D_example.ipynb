{
 "cells": [
  {
   "cell_type": "code",
   "execution_count": 2,
   "metadata": {},
   "outputs": [],
   "source": [
    "import numpy as np\n",
    "import time\n",
    "from models.sim_timescale_separation_2D import find_avalanches"
   ]
  },
  {
   "cell_type": "markdown",
   "metadata": {},
   "source": [
    "Notice: the vegetation configurations and the labeled configurations for the $\\lambda_V, d_V$ parameters are needed for this to run."
   ]
  },
  {
   "cell_type": "code",
   "execution_count": 3,
   "metadata": {},
   "outputs": [],
   "source": [
    "L_list = [50, 75, 100, 150, 200]\n",
    "dV = 1\n",
    "lV_list = np.sort(np.concatenate((np.round(np.linspace(2, 3.1, 15), 2),\n",
    "                                  np.round(np.linspace(2.58, 2.68, 4), 2),\n",
    "                                  np.array([1.7, 1.8, 1.9, 3.5, 4, 5, 8]),\n",
    "                                  np.array([2.73, 2.75, 2.77, 2.81, 2.83, 2.88, 2.91,\n",
    "                                            2.98, 3.05, 3.15, 3.2, 3.25, 3.3, 3.35, 3.4]))))\n",
    "\n",
    "lF = 500\n",
    "dF_list = [100]\n",
    "dF_list = np.unique(np.concatenate((np.arange(10,130,10),\n",
    "                                    np.arange(20, 60, 5),\n",
    "                                    np.array([1,3,5,8,12,15,18]))))\n",
    "\n",
    "for lV in lV_list:\n",
    "    vfile = 'L'+str(L)+'_dV'+str(dV)+'_lV'+str(lV)\n",
    "    states_list_init = np.load('data/cluster_vegetation/' + vfile + '_states_list.npy')\n",
    "    states_list_labeled = np.load('data/cluster_vegetation/labeled_states/' + vfile + '_labeled_states_list.npy')\n",
    "\n",
    "    for dF in dF_list:\n",
    "        t0 = time.time()\n",
    "        av_size, av_time = find_avalanches(states_list_init, states_list_labeled, dF, lF, subclusters = 100)\n",
    "        t1 = time.time()\n",
    "\n",
    "        with open('runinfo/avalanche_generation.txt', \"a\") as f:\n",
    "            print('L=' + str(L) + ', lV='+ str(lV) + ', dF='+str(dF) + ', CPU time ' + str(t1-t0), file = f)\n",
    "\n",
    "        filename = 'data/av_fires_vegetation_conf/L' + str(L) + '_lV' + str(lV) + '_lF' + str(lF) + '_dF' + str(dF)\n",
    "        np.save(filename + '_av_size.npy', av_size)\n",
    "        np.save(filename + '_av_time.npy', av_time)"
   ]
  }
 ],
 "metadata": {
  "kernelspec": {
   "display_name": "Python 3",
   "language": "python",
   "name": "python3"
  },
  "language_info": {
   "codemirror_mode": {
    "name": "ipython",
    "version": 3
   },
   "file_extension": ".py",
   "mimetype": "text/x-python",
   "name": "python",
   "nbconvert_exporter": "python",
   "pygments_lexer": "ipython3",
   "version": "3.6.9"
  }
 },
 "nbformat": 4,
 "nbformat_minor": 4
}
