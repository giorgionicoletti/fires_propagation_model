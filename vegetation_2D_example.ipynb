{
 "cells": [
  {
   "cell_type": "code",
   "execution_count": 1,
   "metadata": {},
   "outputs": [],
   "source": [
    "import numpy as np\n",
    "import time\n",
    "import os.path\n",
    "from models.sim_vegetation_2D import find_configurations\n",
    "from models.sim_vegetation_2D import create_labeled_states"
   ]
  },
  {
   "cell_type": "code",
   "execution_count": 2,
   "metadata": {},
   "outputs": [],
   "source": [
    "L_list = [50, 75, 100, 150, 200]\n",
    "dV = 1\n",
    "lV_list = np.sort(np.concatenate((np.round(np.linspace(2, 3.1, 15), 2),\n",
    "                                  np.round(np.linspace(2.58, 2.68, 4), 2),\n",
    "                                  np.array([1.7, 1.8, 1.9, 3.5, 4, 5, 8]),\n",
    "                                  np.array([2.73, 2.75, 2.77, 2.81, 2.83, 2.88, 2.91,\n",
    "                                            2.98, 3.05, 3.15, 3.2, 3.25, 3.3, 3.35, 3.4]))))\n",
    "\n",
    "for L in L_list:\n",
    "    for lV in lV_list:\n",
    "        t0 = time.time()\n",
    "        states_list = find_configurations(L, dV, lV, nconf = 1000, nsteps_init = 10*L**2, nsteps_sample = 5*L**2)\n",
    "        t1 = time.time()\n",
    "        with open('runinfo/vegetation_configurations.txt', \"a\") as f:\n",
    "            print('L=' + str(L) + ', lV='+str(lV) + ', CPU time ' + str(t1-t0), file = f)\n",
    "\n",
    "        filename = 'data/cluster_vegetation/L' + str(L) + '_dV' + str(dV) + '_lV' + str(lV)\n",
    "        np.save(filename + '_states_list.npy', states_list)\n"
   ]
  },
  {
   "cell_type": "code",
   "execution_count": null,
   "metadata": {},
   "outputs": [],
   "source": [
    "L_list = [50]\n",
    "lV_list = [1.7]\n",
    "dV = 1\n",
    "for L in L_list:\n",
    "    for lV in lV_list:\n",
    "        filename = 'L' + str(L) + '_dV' + str(dV) + '_lV' + str(lV)\n",
    "        if not os.path.isfile('data/cluster_vegetation/labeled_states/' + filename + '_labeled_states_list.npy'):\n",
    "            states_list = np.load('data/cluster_vegetation/' + filename + '_states_list.npy')\n",
    "\n",
    "            labeled_states_list = create_labeled_states(states_list)\n",
    "\n",
    "            np.save('data/cluster_vegetation/labeled_states/' + filename + '_labeled_states_list.npy', labeled_states_list)"
   ]
  },
  {
   "cell_type": "code",
   "execution_count": null,
   "metadata": {},
   "outputs": [],
   "source": []
  }
 ],
 "metadata": {
  "kernelspec": {
   "display_name": "Python 3",
   "language": "python",
   "name": "python3"
  },
  "language_info": {
   "codemirror_mode": {
    "name": "ipython",
    "version": 3
   },
   "file_extension": ".py",
   "mimetype": "text/x-python",
   "name": "python",
   "nbconvert_exporter": "python",
   "pygments_lexer": "ipython3",
   "version": "3.6.9"
  }
 },
 "nbformat": 4,
 "nbformat_minor": 4
}
